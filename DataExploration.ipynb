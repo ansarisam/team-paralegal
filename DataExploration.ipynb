{
 "cells": [
  {
   "cell_type": "code",
   "execution_count": 17,
   "metadata": {},
   "outputs": [
    {
     "name": "stdout",
     "output_type": "stream",
     "text": [
      "Total number of documents (pdf's): 2634\n",
      "Total Number of Banks: 678\n"
     ]
    }
   ],
   "source": [
    "path = 'C:\\DAEN_690\\Credit_Card_Agreements_2021_Q3\\CCA 2021 Q3'\n",
    "total_pdfs = 0\n",
    "total_banks = 0\n",
    "\n",
    "for base, banks, pdfs in os.walk(path):\n",
    "    for each_bank in banks:\n",
    "        total_banks += 1\n",
    "    for each_pdf in pdfs:\n",
    "        total_pdfs += 1\n",
    "\n",
    "print(\"Total number of documents (pdf's):\",total_pdfs)\n",
    "print('Total Number of Banks:',total_banks)\n",
    "\n"
   ]
  }
 ],
 "metadata": {
  "kernelspec": {
   "display_name": "Python 3",
   "language": "python",
   "name": "python3"
  },
  "language_info": {
   "codemirror_mode": {
    "name": "ipython",
    "version": 3
   },
   "file_extension": ".py",
   "mimetype": "text/x-python",
   "name": "python",
   "nbconvert_exporter": "python",
   "pygments_lexer": "ipython3",
   "version": "3.8.5"
  }
 },
 "nbformat": 4,
 "nbformat_minor": 4
}
